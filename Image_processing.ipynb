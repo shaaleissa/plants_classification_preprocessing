{
  "cells": [
    {
      "cell_type": "code",
      "execution_count": null,
      "metadata": {
        "id": "T1Wn-quQvU0f"
      },
      "outputs": [],
      "source": [
        "import os\n",
        "import glob\n",
        "import cv2\n",
        "import skimage\n",
        "from skimage import io\n",
        "import random \n",
        "import numpy as np\n",
        "import matplotlib.pyplot as plt  \n",
        "%matplotlib inline\n",
        "import matplotlib.pyplot as plt\n",
        "from mpl_toolkits.mplot3d import Axes3D\n",
        "from matplotlib import cm\n",
        "from matplotlib import colors"
      ]
    },
    {
      "cell_type": "code",
      "execution_count": null,
      "metadata": {
        "id": "L9Tm2t_Xvd_-"
      },
      "outputs": [],
      "source": [
        "\n",
        "dataset_path='data/Plants_2'\n",
        "diseases=os.listdir(dataset_path)\n",
        "classes_paths=[]\n",
        "for i in range(len(diseases)):\n",
        "    classes_paths.append(os.path.join(dataset_path,diseases[i]))\n",
        "\n",
        "files=[]\n",
        "for path in classes_paths:\n",
        "    for x in os.listdir(path):\n",
        "            files.append(path+'/'+x)\n",
        "\n"
      ]
    },
    {
      "cell_type": "code",
      "execution_count": null,
      "metadata": {
        "colab": {
          "base_uri": "https://localhost:8080/",
          "height": 273
        },
        "id": "5bVoEpssvo0r",
        "outputId": "5006dec4-5fe5-4964-e356-2157ad7f1351"
      },
      "outputs": [],
      "source": [
        "\n",
        "rand=random.randint(0,100)\n",
        "image = io.imread(files[0])\n",
        "plt.imshow(image)\n",
        "\n"
      ]
    },
    {
      "cell_type": "code",
      "execution_count": null,
      "metadata": {},
      "outputs": [],
      "source": [
        "import shutil\n",
        "from tqdm import tqdm\n",
        "\n",
        "\n",
        "def make_segments(sdir,img_size):\n",
        "    lower_green = np.array([25,52,72])\n",
        "    upper_green = np.array([102,255,255])\n",
        "    lower_brown = np.array([10,100,20])\n",
        "    upper_brown = np.array([20,255,200])\n",
        "    working_dir=r'./data'\n",
        "    dstdir=os.path.join(working_dir, 'for_image')\n",
        "    if os.path.isdir(dstdir):\n",
        "        shutil.rmtree(dstdir)\n",
        "    os.mkdir(dstdir)\n",
        "    filepaths=[]\n",
        "    labels=[]\n",
        "    plant_list=sorted(os.listdir(sdir) )     \n",
        "    for plant in plant_list:\n",
        "        plant_path=os.path.join(sdir, plant)\n",
        "        dst_plant_path=os.path.join(dstdir, plant)\n",
        "        os.mkdir(dst_plant_path)\n",
        "        classlist=sorted(os.listdir(plant_path))\n",
        "        for klass in classlist:\n",
        "            classpath=os.path.join(plant_path, klass)\n",
        "            dst_classpath=os.path.join(dst_plant_path, klass)\n",
        "            os.mkdir(dst_classpath)\n",
        "            flist=sorted(os.listdir(classpath)) \n",
        "            desc=f'{plant:25s}-{klass:9s}'\n",
        "            for f in tqdm(flist, ncols=130,desc=desc, unit='files', colour='blue'):\n",
        "                fpath=os.path.join(classpath,f)\n",
        "                dst_fpath=os.path.join(dst_classpath,f)\n",
        "                filepaths.append(dst_fpath)\n",
        "                img=cv2.imread(fpath)\n",
        "                img=cv2.resize(img, img_size)\n",
        "                hsv=cv2.cvtColor(img,cv2.COLOR_RGB2HSV)\n",
        "                mask = cv2.inRange(hsv, lower_green, upper_green)\n",
        "                res = cv2.bitwise_and(img,img, mask= mask)\n",
        "                mask2 = cv2.inRange(hsv, lower_brown, upper_brown)\n",
        "                res2 = cv2.bitwise_and(img,img, mask= mask2)\n",
        "                final_mask=(res+res2)\n",
        "                cv2.imwrite(dst_fpath, final_mask)"
      ]
    },
    {
      "cell_type": "code",
      "execution_count": null,
      "metadata": {},
      "outputs": [],
      "source": [
        "make_segments(dataset_path,(200,300))"
      ]
    },
    {
      "attachments": {},
      "cell_type": "markdown",
      "metadata": {},
      "source": [
        "**Below is the code if it was excuted without the above function**"
      ]
    },
    {
      "cell_type": "code",
      "execution_count": null,
      "metadata": {},
      "outputs": [],
      "source": [
        "#convert to hsv\n",
        "hsv_images=[]\n",
        "rgb_images=[]\n",
        "for i in range(len(files)):\n",
        "    img = io.imread(files[i])\n",
        "    rgb_images.append(img)\n",
        "    hsv=cv2.cvtColor(img,cv2.COLOR_RGB2HSV)\n",
        "    hsv_images.append(hsv)\n",
        "    \n",
        " "
      ]
    },
    {
      "cell_type": "code",
      "execution_count": null,
      "metadata": {},
      "outputs": [],
      "source": [
        "for j in range(4):\n",
        "    plt.figure(figsize=(15,20))\n",
        "    plt.subplot(2,2,j+1)\n",
        "    plt.imshow(hsv_images[j])"
      ]
    },
    {
      "cell_type": "code",
      "execution_count": null,
      "metadata": {},
      "outputs": [],
      "source": [
        "#define range of green color in HSV\n",
        "lower_green = np.array([25,52,72])\n",
        "upper_green = np.array([102,255,255])"
      ]
    },
    {
      "cell_type": "code",
      "execution_count": null,
      "metadata": {},
      "outputs": [],
      "source": [
        "green_mask=[]\n",
        "for i in range(len(hsv_images)):\n",
        "    mask = cv2.inRange(hsv_images[i], lower_green, upper_green)\n",
        "    res = cv2.bitwise_and(rgb_images[i],rgb_images[i], mask= mask)\n",
        "    green_mask.append(res)\n"
      ]
    },
    {
      "cell_type": "code",
      "execution_count": null,
      "metadata": {},
      "outputs": [],
      "source": [
        "for j in range(9):\n",
        "    plt.figsize=(15,20)\n",
        "    plt.subplot(3,3,j+1)\n",
        "    plt.imshow(green_mask[j])"
      ]
    },
    {
      "cell_type": "code",
      "execution_count": null,
      "metadata": {},
      "outputs": [],
      "source": [
        "#define range of brown color in HSV\n",
        "lower_brown = np.array([10,0,10])\n",
        "upper_brown = np.array([20,255,200])"
      ]
    },
    {
      "cell_type": "code",
      "execution_count": null,
      "metadata": {},
      "outputs": [],
      "source": [
        "final_masked_images=[]\n",
        "for i in range(len(hsv_images)):\n",
        "    mask = cv2.inRange(hsv_images[i], lower_brown, upper_brown)\n",
        "    res = cv2.bitwise_and(rgb_images[i],rgb_images[i], mask= mask)\n",
        "    final_masked_images.append(res)"
      ]
    },
    {
      "cell_type": "code",
      "execution_count": null,
      "metadata": {},
      "outputs": [],
      "source": [
        "for j in range(9):\n",
        "    plt.figzise=(15,20)\n",
        "    plt.subplot(3,3,j+1)\n",
        "    plt.imshow(final_masked_images[j])"
      ]
    },
    {
      "cell_type": "code",
      "execution_count": null,
      "metadata": {},
      "outputs": [],
      "source": [
        "final_mask=[]\n",
        "for i in range(len(hsv_images)):\n",
        "    final_mask.append(green_mask[i]+final_masked_images[i])\n"
      ]
    },
    {
      "cell_type": "code",
      "execution_count": null,
      "metadata": {},
      "outputs": [],
      "source": [
        "#show each image and its segmented image\n",
        "for i in range(10):\n",
        "    plt.figure(figsize=(15,20))\n",
        "    plt.subplot(1,2,1)\n",
        "    plt.imshow(rgb_images[i])\n",
        "    plt.subplot(1,2,2)\n",
        "    plt.imshow(final_mask[i])"
      ]
    },
    {
      "cell_type": "code",
      "execution_count": null,
      "metadata": {},
      "outputs": [],
      "source": [
        "cv_im=cv2.imread(files[0])\n",
        "pixel_colors = cv_im.reshape((np.shape(cv_im)[0]*np.shape(cv_im)[1], 3))\n",
        "norm = colors.Normalize(vmin=-1.,vmax=1.)\n",
        "norm.autoscale(pixel_colors)\n",
        "pixel_colors = norm(pixel_colors).tolist()"
      ]
    },
    {
      "cell_type": "code",
      "execution_count": null,
      "metadata": {},
      "outputs": [],
      "source": [
        "from mpl_toolkits.mplot3d import Axes3D\n",
        "from matplotlib import pyplot\n",
        "from PIL import Image\n",
        "\n",
        "fig = pyplot.figure()\n",
        "axis = fig.add_subplot(1, 1, 1, projection=\"3d\") # 3D plot with scalar values in each axis\n",
        "\n",
        "im = Image.open(files[0])\n",
        "\n",
        "r, g, b = list(im.getdata(0)), list(im.getdata(1)), list(im.getdata(2))\n",
        "\n",
        "axis.scatter(r, g, b, c=pixel_colors, marker=\"o\")\n",
        "axis.set_xlabel(\"Red\")\n",
        "axis.set_ylabel(\"Green\")\n",
        "axis.set_zlabel(\"Blue\")\n",
        "pyplot.show()"
      ]
    },
    {
      "cell_type": "code",
      "execution_count": null,
      "metadata": {},
      "outputs": [],
      "source": [
        "from mpl_toolkits.mplot3d import Axes3D\n",
        "from matplotlib import pyplot\n",
        "from PIL import Image\n",
        "\n",
        "h, s, v = cv2.split(hsv_images[0])\n",
        "fig = plt.figure()\n",
        "axis = fig.add_subplot(1, 1, 1, projection=\"3d\")\n",
        "\n",
        "axis.scatter(h.flatten(), s.flatten(), v.flatten(), c=pixel_colors, marker=\"o\")\n",
        "axis.set_xlabel(\"Hue\")\n",
        "axis.set_ylabel(\"Saturation\")\n",
        "axis.set_zlabel(\"Value\")\n",
        "plt.show()\n"
      ]
    }
  ],
  "metadata": {
    "colab": {
      "provenance": []
    },
    "kernelspec": {
      "display_name": "Python 3",
      "name": "python3"
    },
    "language_info": {
      "codemirror_mode": {
        "name": "ipython",
        "version": 3
      },
      "file_extension": ".py",
      "mimetype": "text/x-python",
      "name": "python",
      "nbconvert_exporter": "python",
      "pygments_lexer": "ipython3",
      "version": "3.9.12"
    }
  },
  "nbformat": 4,
  "nbformat_minor": 0
}
